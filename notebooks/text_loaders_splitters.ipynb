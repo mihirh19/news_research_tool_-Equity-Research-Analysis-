{
 "cells": [
  {
   "cell_type": "markdown",
   "metadata": {},
   "source": [
    "# Equity research analysis"
   ]
  },
  {
   "cell_type": "code",
   "execution_count": 1,
   "metadata": {},
   "outputs": [],
   "source": [
    "from langchain.document_loaders import TextLoader"
   ]
  },
  {
   "cell_type": "code",
   "execution_count": 2,
   "metadata": {},
   "outputs": [
    {
     "data": {
      "text/plain": [
       "Document(page_content=\"The stock of NVIDIA Corp (NASDAQ:NVDA) experienced a daily loss of -3.56% and a 3-month gain of 32.35%. With an Earnings Per Share (EPS) (EPS) of $1.92, the question arises: is the stock significantly overvalued? This article aims to provide a detailed valuation analysis of NVIDIA, offering insights into its financial strength, profitability, growth, and more. We invite you to delve into this comprehensive analysis.\\n\\nCompany Overview\\nWarning! GuruFocus has detected 10 Warning Signs with NVDA. Click here to check it out.\\n\\nNVDA 30-Year Financial Data\\n\\nThe intrinsic value of NVDA\\n\\n\\nNVIDIA Corp (NASDAQ:NVDA) is a leading designer of discrete graphics processing units that enhance the experience on computing platforms. The firm's chips are widely used in various end markets, including PC gaming and data centers. In recent years, NVIDIA has broadened its focus from traditional PC graphics applications such as gaming to more complex and favorable opportunities, including artificial intelligence and autonomous driving, leveraging the high-performance capabilities of its products.\\n\\nCurrently, NVIDIA's stock price stands at $418.01, significantly higher than the GF Value of $310.28, indicating the stock might be overvalued. With a market cap of $1 trillion, the valuation seems steep. The following analysis aims to delve deeper into the company's value.\\n\\nIs NVIDIA's Stock Significantly Overvalued? A Comprehensive Valuation Analysis\\nIs NVIDIA's Stock Significantly Overvalued? A Comprehensive Valuation Analysis\\nUnderstanding the GF Value\\nThe GF Value is a unique measure of the intrinsic value of a stock, calculated based on historical trading multiples, a GuruFocus adjustment factor, and future business performance estimates. If the stock price is significantly above the GF Value Line, it is overvalued, and its future return is likely to be poor. Conversely, if it is significantly below the GF Value Line, its future return will likely be higher.\\n\\nAccording to GuruFocus Value calculation, NVIDIA (NASDAQ:NVDA) appears to be significantly overvalued. The stock's current price of $418.01 per share and the market cap of $1 trillion further strengthen this assumption.\\n\\nGiven that NVIDIA is significantly overvalued, the long-term return of its stock is likely to be much lower than its future business growth.\\n\\nIs NVIDIA's Stock Significantly Overvalued? A Comprehensive Valuation Analysis\\nIs NVIDIA's Stock Significantly Overvalued? A Comprehensive Valuation Analysis\\nLink: These companies may deliver higher future returns at reduced risk.\\n\\nFinancial Strength of NVIDIA\\nExamining the financial strength of a company is crucial before investing in its stock. Companies with poor financial strength pose a higher risk of permanent loss. NVIDIA's cash-to-debt ratio of 1.27 is worse than 58.04% of companies in the Semiconductors industry. However, NVIDIA's overall financial strength is 8 out of 10, indicating a strong financial position.\\n\\nIs NVIDIA's Stock Significantly Overvalued? A Comprehensive Valuation Analysis\\nIs NVIDIA's Stock Significantly Overvalued? A Comprehensive Valuation Analysis\\nProfitability and Growth\\nConsistent profitability over the long term reduces the risk for investors. NVIDIA, with its profitability ranking of 10 out of 10, has been profitable for the past 10 years. The company's operating margin of 17.37% ranks better than 76.5% of companies in the Semiconductors industry.\\n\\nHowever, growth is a crucial factor in a company's valuation. NVIDIA's growth ranks worse than 52.99% of companies in the Semiconductors industry, with its 3-year average revenue growth rate better than 87.88% of companies in the industry.\\n\\nROIC vs WACC\\nComparing a company's return on invested capital (ROIC) to its weighted average cost of capital (WACC) is an effective way to evaluate its profitability. Over the past 12 months, NVIDIA's ROIC was 20.32 while its WACC was 16.74, suggesting that the company is creating value for its shareholders.\\n\\nIs NVIDIA's Stock Significantly Overvalued? A Comprehensive Valuation Analysis\\nIs NVIDIA's Stock Significantly Overvalued? A Comprehensive Valuation Analysis\\nConclusion\\nIn conclusion, NVIDIA (NASDAQ:NVDA) appears to be significantly overvalued. Despite its strong financial condition and profitability, its growth ranks lower than 52.99% of companies in the Semiconductors industry. To learn more about NVIDIA stock, you can check out its 30-Year Financials here.\\n\\nTo find out the high quality companies that may deliver above-average returns, please check out GuruFocus High Quality Low Capex Screener.\\n\\nThis article first appeared on GuruFocus.\", metadata={'source': 'nvda_news_1.txt'})"
      ]
     },
     "execution_count": 2,
     "metadata": {},
     "output_type": "execute_result"
    }
   ],
   "source": [
    "loader = TextLoader(\"nvda_news_1.txt\")\n",
    "data = loader.load()\n",
    "data[0]"
   ]
  },
  {
   "cell_type": "code",
   "execution_count": 3,
   "metadata": {},
   "outputs": [
    {
     "data": {
      "text/plain": [
       "\"The stock of NVIDIA Corp (NASDAQ:NVDA) experienced a daily loss of -3.56% and a 3-month gain of 32.35%. With an Earnings Per Share (EPS) (EPS) of $1.92, the question arises: is the stock significantly overvalued? This article aims to provide a detailed valuation analysis of NVIDIA, offering insights into its financial strength, profitability, growth, and more. We invite you to delve into this comprehensive analysis.\\n\\nCompany Overview\\nWarning! GuruFocus has detected 10 Warning Signs with NVDA. Click here to check it out.\\n\\nNVDA 30-Year Financial Data\\n\\nThe intrinsic value of NVDA\\n\\n\\nNVIDIA Corp (NASDAQ:NVDA) is a leading designer of discrete graphics processing units that enhance the experience on computing platforms. The firm's chips are widely used in various end markets, including PC gaming and data centers. In recent years, NVIDIA has broadened its focus from traditional PC graphics applications such as gaming to more complex and favorable opportunities, including artificial intelligence and autonomous driving, leveraging the high-performance capabilities of its products.\\n\\nCurrently, NVIDIA's stock price stands at $418.01, significantly higher than the GF Value of $310.28, indicating the stock might be overvalued. With a market cap of $1 trillion, the valuation seems steep. The following analysis aims to delve deeper into the company's value.\\n\\nIs NVIDIA's Stock Significantly Overvalued? A Comprehensive Valuation Analysis\\nIs NVIDIA's Stock Significantly Overvalued? A Comprehensive Valuation Analysis\\nUnderstanding the GF Value\\nThe GF Value is a unique measure of the intrinsic value of a stock, calculated based on historical trading multiples, a GuruFocus adjustment factor, and future business performance estimates. If the stock price is significantly above the GF Value Line, it is overvalued, and its future return is likely to be poor. Conversely, if it is significantly below the GF Value Line, its future return will likely be higher.\\n\\nAccording to GuruFocus Value calculation, NVIDIA (NASDAQ:NVDA) appears to be significantly overvalued. The stock's current price of $418.01 per share and the market cap of $1 trillion further strengthen this assumption.\\n\\nGiven that NVIDIA is significantly overvalued, the long-term return of its stock is likely to be much lower than its future business growth.\\n\\nIs NVIDIA's Stock Significantly Overvalued? A Comprehensive Valuation Analysis\\nIs NVIDIA's Stock Significantly Overvalued? A Comprehensive Valuation Analysis\\nLink: These companies may deliver higher future returns at reduced risk.\\n\\nFinancial Strength of NVIDIA\\nExamining the financial strength of a company is crucial before investing in its stock. Companies with poor financial strength pose a higher risk of permanent loss. NVIDIA's cash-to-debt ratio of 1.27 is worse than 58.04% of companies in the Semiconductors industry. However, NVIDIA's overall financial strength is 8 out of 10, indicating a strong financial position.\\n\\nIs NVIDIA's Stock Significantly Overvalued? A Comprehensive Valuation Analysis\\nIs NVIDIA's Stock Significantly Overvalued? A Comprehensive Valuation Analysis\\nProfitability and Growth\\nConsistent profitability over the long term reduces the risk for investors. NVIDIA, with its profitability ranking of 10 out of 10, has been profitable for the past 10 years. The company's operating margin of 17.37% ranks better than 76.5% of companies in the Semiconductors industry.\\n\\nHowever, growth is a crucial factor in a company's valuation. NVIDIA's growth ranks worse than 52.99% of companies in the Semiconductors industry, with its 3-year average revenue growth rate better than 87.88% of companies in the industry.\\n\\nROIC vs WACC\\nComparing a company's return on invested capital (ROIC) to its weighted average cost of capital (WACC) is an effective way to evaluate its profitability. Over the past 12 months, NVIDIA's ROIC was 20.32 while its WACC was 16.74, suggesting that the company is creating value for its shareholders.\\n\\nIs NVIDIA's Stock Significantly Overvalued? A Comprehensive Valuation Analysis\\nIs NVIDIA's Stock Significantly Overvalued? A Comprehensive Valuation Analysis\\nConclusion\\nIn conclusion, NVIDIA (NASDAQ:NVDA) appears to be significantly overvalued. Despite its strong financial condition and profitability, its growth ranks lower than 52.99% of companies in the Semiconductors industry. To learn more about NVIDIA stock, you can check out its 30-Year Financials here.\\n\\nTo find out the high quality companies that may deliver above-average returns, please check out GuruFocus High Quality Low Capex Screener.\\n\\nThis article first appeared on GuruFocus.\""
      ]
     },
     "execution_count": 3,
     "metadata": {},
     "output_type": "execute_result"
    }
   ],
   "source": [
    "data[0].page_content"
   ]
  },
  {
   "cell_type": "code",
   "execution_count": 4,
   "metadata": {},
   "outputs": [
    {
     "data": {
      "text/plain": [
       "{'source': 'nvda_news_1.txt'}"
      ]
     },
     "execution_count": 4,
     "metadata": {},
     "output_type": "execute_result"
    }
   ],
   "source": [
    "data[0].metadata"
   ]
  },
  {
   "cell_type": "code",
   "execution_count": 5,
   "metadata": {},
   "outputs": [
    {
     "data": {
      "text/plain": [
       "[Document(page_content='movie_id: 101\\ntitle: K.G.F: Chapter 2\\nindustry: Bollywood\\nrelease_year: 2022\\nimdb_rating: 8.4\\nstudio: Hombale Films\\nlanguage_id: 3\\nbudget: 1\\nrevenue: 12.5\\nunit: Billions\\ncurrency: INR', metadata={'source': 'movies.csv', 'row': 0}),\n",
       " Document(page_content='movie_id: 102\\ntitle: Doctor Strange in the Multiverse of Madness\\nindustry: Hollywood\\nrelease_year: 2022\\nimdb_rating: 7\\nstudio: Marvel Studios\\nlanguage_id: 5\\nbudget: 200\\nrevenue: 954.8\\nunit: Millions\\ncurrency: USD', metadata={'source': 'movies.csv', 'row': 1}),\n",
       " Document(page_content='movie_id: 103\\ntitle: Thor: The Dark World\\nindustry: Hollywood\\nrelease_year: 2013\\nimdb_rating: 6.8\\nstudio: Marvel Studios\\nlanguage_id: 5\\nbudget: 165\\nrevenue: 644.8\\nunit: Millions\\ncurrency: USD', metadata={'source': 'movies.csv', 'row': 2}),\n",
       " Document(page_content='movie_id: 104\\ntitle: Thor: Ragnarok\\nindustry: Hollywood\\nrelease_year: 2017\\nimdb_rating: 7.9\\nstudio: Marvel Studios\\nlanguage_id: 5\\nbudget: 180\\nrevenue: 854\\nunit: Millions\\ncurrency: USD', metadata={'source': 'movies.csv', 'row': 3}),\n",
       " Document(page_content='movie_id: 105\\ntitle: Thor: Love and Thunder\\nindustry: Hollywood\\nrelease_year: 2022\\nimdb_rating: 6.8\\nstudio: Marvel Studios\\nlanguage_id: 5\\nbudget: 250\\nrevenue: 670\\nunit: Millions\\ncurrency: USD', metadata={'source': 'movies.csv', 'row': 4}),\n",
       " Document(page_content='movie_id: 106\\ntitle: Sholay\\nindustry: Bollywood\\nrelease_year: 1975\\nimdb_rating: 8.1\\nstudio: United Producers\\nlanguage_id: 1\\nbudget: Not Available\\nrevenue: Not Available\\nunit: Not Available\\ncurrency: Not Available', metadata={'source': 'movies.csv', 'row': 5}),\n",
       " Document(page_content='movie_id: 107\\ntitle: Dilwale Dulhania Le Jayenge\\nindustry: Bollywood\\nrelease_year: 1995\\nimdb_rating: 8\\nstudio: Yash Raj Films\\nlanguage_id: 1\\nbudget: 400\\nrevenue: 2000\\nunit: Millions\\ncurrency: INR', metadata={'source': 'movies.csv', 'row': 6}),\n",
       " Document(page_content='movie_id: 108\\ntitle: 3 Idiots\\nindustry: Bollywood\\nrelease_year: 2009\\nimdb_rating: 8.4\\nstudio: Vinod Chopra Films\\nlanguage_id: 1\\nbudget: 550\\nrevenue: 4000\\nunit: Millions\\ncurrency: INR', metadata={'source': 'movies.csv', 'row': 7}),\n",
       " Document(page_content='movie_id: 109\\ntitle: Kabhi Khushi Kabhie Gham\\nindustry: Bollywood\\nrelease_year: 2001\\nimdb_rating: 7.4\\nstudio: Dharma Productions\\nlanguage_id: 1\\nbudget: 390\\nrevenue: 1360\\nunit: Millions\\ncurrency: INR', metadata={'source': 'movies.csv', 'row': 8})]"
      ]
     },
     "execution_count": 5,
     "metadata": {},
     "output_type": "execute_result"
    }
   ],
   "source": [
    "from langchain.document_loaders.csv_loader import CSVLoader\n",
    "\n",
    "loader  = CSVLoader(\"movies.csv\")\n",
    "data = loader.load()\n",
    "data"
   ]
  },
  {
   "cell_type": "code",
   "execution_count": 6,
   "metadata": {},
   "outputs": [
    {
     "name": "stdout",
     "output_type": "stream",
     "text": [
      "Requirement already satisfied: unstructured in c:\\users\\mihir\\appdata\\local\\programs\\python\\python312\\lib\\site-packages (0.11.8)\n",
      "Requirement already satisfied: python-magic-bin in c:\\users\\mihir\\appdata\\local\\programs\\python\\python312\\lib\\site-packages (0.4.14)\n",
      "Requirement already satisfied: chardet in c:\\users\\mihir\\appdata\\local\\programs\\python\\python312\\lib\\site-packages (from unstructured) (5.2.0)\n",
      "Requirement already satisfied: filetype in c:\\users\\mihir\\appdata\\local\\programs\\python\\python312\\lib\\site-packages (from unstructured) (1.2.0)\n",
      "Requirement already satisfied: python-magic in c:\\users\\mihir\\appdata\\local\\programs\\python\\python312\\lib\\site-packages (from unstructured) (0.4.27)\n",
      "Requirement already satisfied: lxml in c:\\users\\mihir\\appdata\\local\\programs\\python\\python312\\lib\\site-packages (from unstructured) (5.2.2)\n",
      "Requirement already satisfied: nltk in c:\\users\\mihir\\appdata\\local\\programs\\python\\python312\\lib\\site-packages (from unstructured) (3.8.1)\n",
      "Requirement already satisfied: tabulate in c:\\users\\mihir\\appdata\\local\\programs\\python\\python312\\lib\\site-packages (from unstructured) (0.9.0)\n",
      "Requirement already satisfied: requests in c:\\users\\mihir\\appdata\\local\\programs\\python\\python312\\lib\\site-packages (from unstructured) (2.31.0)\n",
      "Requirement already satisfied: beautifulsoup4 in c:\\users\\mihir\\appdata\\local\\programs\\python\\python312\\lib\\site-packages (from unstructured) (4.12.2)\n",
      "Requirement already satisfied: emoji in c:\\users\\mihir\\appdata\\local\\programs\\python\\python312\\lib\\site-packages (from unstructured) (2.11.1)\n",
      "Requirement already satisfied: dataclasses-json in c:\\users\\mihir\\appdata\\local\\programs\\python\\python312\\lib\\site-packages (from unstructured) (0.6.6)\n",
      "Requirement already satisfied: python-iso639 in c:\\users\\mihir\\appdata\\local\\programs\\python\\python312\\lib\\site-packages (from unstructured) (2024.4.27)\n",
      "Requirement already satisfied: langdetect in c:\\users\\mihir\\appdata\\local\\programs\\python\\python312\\lib\\site-packages (from unstructured) (1.0.9)\n",
      "Requirement already satisfied: numpy in c:\\users\\mihir\\appdata\\local\\programs\\python\\python312\\lib\\site-packages (from unstructured) (1.26.2)\n",
      "Requirement already satisfied: rapidfuzz in c:\\users\\mihir\\appdata\\local\\programs\\python\\python312\\lib\\site-packages (from unstructured) (3.9.0)\n",
      "Requirement already satisfied: backoff in c:\\users\\mihir\\appdata\\local\\programs\\python\\python312\\lib\\site-packages (from unstructured) (2.2.1)\n",
      "Requirement already satisfied: typing-extensions in c:\\users\\mihir\\appdata\\local\\programs\\python\\python312\\lib\\site-packages (from unstructured) (4.9.0)\n",
      "Requirement already satisfied: unstructured-client in c:\\users\\mihir\\appdata\\local\\programs\\python\\python312\\lib\\site-packages (from unstructured) (0.22.0)\n",
      "Requirement already satisfied: wrapt in c:\\users\\mihir\\appdata\\local\\programs\\python\\python312\\lib\\site-packages (from unstructured) (1.16.0)\n",
      "Requirement already satisfied: soupsieve>1.2 in c:\\users\\mihir\\appdata\\local\\programs\\python\\python312\\lib\\site-packages (from beautifulsoup4->unstructured) (2.5)\n",
      "Requirement already satisfied: marshmallow<4.0.0,>=3.18.0 in c:\\users\\mihir\\appdata\\local\\programs\\python\\python312\\lib\\site-packages (from dataclasses-json->unstructured) (3.21.2)\n",
      "Requirement already satisfied: typing-inspect<1,>=0.4.0 in c:\\users\\mihir\\appdata\\local\\programs\\python\\python312\\lib\\site-packages (from dataclasses-json->unstructured) (0.9.0)\n",
      "Requirement already satisfied: six in c:\\users\\mihir\\appdata\\local\\programs\\python\\python312\\lib\\site-packages (from langdetect->unstructured) (1.16.0)\n",
      "Requirement already satisfied: click in c:\\users\\mihir\\appdata\\local\\programs\\python\\python312\\lib\\site-packages (from nltk->unstructured) (8.1.7)\n",
      "Requirement already satisfied: joblib in c:\\users\\mihir\\appdata\\local\\programs\\python\\python312\\lib\\site-packages (from nltk->unstructured) (1.3.2)\n",
      "Requirement already satisfied: regex>=2021.8.3 in c:\\users\\mihir\\appdata\\local\\programs\\python\\python312\\lib\\site-packages (from nltk->unstructured) (2023.12.25)\n",
      "Requirement already satisfied: tqdm in c:\\users\\mihir\\appdata\\local\\programs\\python\\python312\\lib\\site-packages (from nltk->unstructured) (4.66.1)\n",
      "Requirement already satisfied: charset-normalizer<4,>=2 in c:\\users\\mihir\\appdata\\local\\programs\\python\\python312\\lib\\site-packages (from requests->unstructured) (3.3.2)\n",
      "Requirement already satisfied: idna<4,>=2.5 in c:\\users\\mihir\\appdata\\local\\programs\\python\\python312\\lib\\site-packages (from requests->unstructured) (3.6)\n",
      "Requirement already satisfied: urllib3<3,>=1.21.1 in c:\\users\\mihir\\appdata\\local\\programs\\python\\python312\\lib\\site-packages (from requests->unstructured) (2.2.1)\n",
      "Requirement already satisfied: certifi>=2017.4.17 in c:\\users\\mihir\\appdata\\local\\programs\\python\\python312\\lib\\site-packages (from requests->unstructured) (2023.11.17)\n",
      "Requirement already satisfied: deepdiff>=6.0 in c:\\users\\mihir\\appdata\\local\\programs\\python\\python312\\lib\\site-packages (from unstructured-client->unstructured) (7.0.1)\n",
      "Requirement already satisfied: jsonpath-python>=1.0.6 in c:\\users\\mihir\\appdata\\local\\programs\\python\\python312\\lib\\site-packages (from unstructured-client->unstructured) (1.0.6)\n",
      "Requirement already satisfied: mypy-extensions>=1.0.0 in c:\\users\\mihir\\appdata\\local\\programs\\python\\python312\\lib\\site-packages (from unstructured-client->unstructured) (1.0.0)\n",
      "Requirement already satisfied: packaging>=23.1 in c:\\users\\mihir\\appdata\\local\\programs\\python\\python312\\lib\\site-packages (from unstructured-client->unstructured) (23.2)\n",
      "Requirement already satisfied: pypdf>=4.0 in c:\\users\\mihir\\appdata\\local\\programs\\python\\python312\\lib\\site-packages (from unstructured-client->unstructured) (4.2.0)\n",
      "Requirement already satisfied: python-dateutil>=2.8.2 in c:\\users\\mihir\\appdata\\local\\programs\\python\\python312\\lib\\site-packages (from unstructured-client->unstructured) (2.8.2)\n",
      "Requirement already satisfied: ordered-set<4.2.0,>=4.1.0 in c:\\users\\mihir\\appdata\\local\\programs\\python\\python312\\lib\\site-packages (from deepdiff>=6.0->unstructured-client->unstructured) (4.1.0)\n",
      "Requirement already satisfied: colorama in c:\\users\\mihir\\appdata\\local\\programs\\python\\python312\\lib\\site-packages (from click->nltk->unstructured) (0.4.6)\n"
     ]
    }
   ],
   "source": [
    "!pip3 install unstructured python-magic-bin"
   ]
  },
  {
   "cell_type": "code",
   "execution_count": 7,
   "metadata": {},
   "outputs": [],
   "source": [
    "from langchain_community.document_loaders import WebBaseLoader"
   ]
  },
  {
   "cell_type": "code",
   "execution_count": 8,
   "metadata": {},
   "outputs": [],
   "source": [
    "loader = WebBaseLoader(web_paths=[\n",
    "        \"https://www.moneycontrol.com/news/business/banks/hdfc-bank-re-appoints-sanmoy-chakrabarti-as-chief-risk-officer-11259771.html\",\n",
    "        \"https://www.moneycontrol.com/news/business/markets/market-corrects-post-rbi-ups-inflation-forecast-icrr-bet-on-these-top-10-rate-sensitive-stocks-ideas-11142611.html\"\n",
    "    ])\n"
   ]
  },
  {
   "cell_type": "code",
   "execution_count": 9,
   "metadata": {},
   "outputs": [],
   "source": [
    "\n",
    "data =  loader.load()"
   ]
  },
  {
   "cell_type": "code",
   "execution_count": 10,
   "metadata": {},
   "outputs": [
    {
     "data": {
      "text/plain": [
       "[Document(page_content=' HDFC Bank re-appoints Sanmoy Chakrabarti as Chief Risk Officer           \\n\\n  \\n\\n      \\n\\n   \\n\\n  EnglishHindiGujaratiSpecialsSearch Quotes, News, Mutual Fund NAVsMoneycontrol Trending StockInfosys\\xa0INE009A01021, INFY, 500209State Bank of India\\xa0INE062A01020, SBIN, 500112Yes Bank\\xa0INE528G01027, YESBANK, 532648Bank Nifty\\xa0Nifty 500 \\xa0QuotesMutual FundsCommoditiesFutures & OptionsCurrencyNewsCryptocurrencyForumNoticesVideosGlossaryAll  Hello, Login Hello, LoginLog-inor Sign-UpMy AccountMy Profile My PortfolioMy WatchlistFREE Credit Score₹100 Cash RewardMy AlertsMy MessagesPrice AlertsMy Profile My PROMy PortfolioMy WatchlistFREE Credit Score₹100 Cash RewardMy AlertsMy MessagesPrice AlertsLogoutChat with UsDownload AppFollow us on:PremiumMy Alerts->->MC_ENG_DESKTOP/MC_ENG_NEWS/MC_ENG_BUSINESS_AS/MC_ENG_ROS_NWS_BUS_AS_ATF_728Go PRO @₹99  PROAdvertisementRemove AdElections 2024MarketsHOMEINDIAN INDICESSTOCK ACTIONAll StatsTop GainersTop LosersOnly BuyersOnly Sellers52 Week High52 Week LowPrice ShockersVolume ShockersMost Active StocksGLOBAL MARKETSUS MARKETSBIG SHARK PORTFOLIOSSTOCK SCANNERECONOMIC INDICATORSECONOMIC CALENDARMARKET ACTIONDashboardF&OFII & DII ActivityCorporate ActionEARNINGSCOMMODITYPRE MARKETRESEARCHAdviceBroker ResearchTechnicalsCURRENCYCRYPTOCURRENCYBONDSTECHNICAL TRENDSIPOWEBINARINTERVIEW SERIESOTHERSCryptocurrency NewsToolsNewsLATEST NEWSBudget 2024Elections 2024IPL 2024BUSINESSEconomyCompaniesMutual FundsPersonal FinanceIPOStartupsReal EstateSMENATION & WORLDIndiaWorldPoliticsMARKETSStocksTechnical AnalysisEquity ResearchCommodityCurrencyGold RateSilver RateAQISPECIALTrendsLatest NewsOpinionExplainersMC BuzzMC FeaturesMC LearnTECHNOLOGYPersonal TechAutoFintechMEDIAPodcastPhotosInfographicsVideosWeb StoriesCRYPTOCURRENCYOTHERSEntertainmentSportsLifestyleHealth and FitnessEducationJobsScienceAstroTravelIPL 2024TechPortfolioWatchlistCommoditiesMutual FundsEXPLOREHomeFind FundTop Ranked FundsPerformance TrackerSIP Performance TrackerETF PerformanceNFOTop Performing CategoriesLearnTOOLSReturns CalculatorLumpsum SIP BalancerDelay Cost CalculatorSIP ReturnMF FORUMTRACKYour MF InvestmentMF PricesMC 30Personal FinanceEXPLOREHomeInvestingInsuranceBankingFinancial PlanningPropertyToolsVideoAsk ExpertExplainerIncome Tax Filing GuideNPSFIXED DEPOSITFixed Deposit ComparisonFixed Deposit Interest CalculatorCorporate DepositsTAXIncome tax Filing GuideIncome Tax CalculatorEmergency Fund CalculatorLOANS & CREDIT CARDSHomePersonal Loan\\t\\t\\t\\t\\t\\t\\t\\t\\t\\t\\t\\t\\xa0Car Loan CalculatorHome Loan CalculatorEducation Loan CalculatorCredit Card Debit Payoff CalculatorTOOLSProvident Fund CalculatorAssets Allocation PlanningDebt Reduction PlannerDebt Evaluation CalculatorCurrent Expense CalculatorFREE CREDIT SCORE₹100 Cash RewardREAL ESTATE : TRENDS & ANALYTICSMC 30MONEYCONTROL - SECURENOW HEALTH INSURANCE RATINGSGOLD PRICE TODAYUpcoming Chat | Previous TranscriptsAll Schedule | Previous TranscriptForumEXPLORE FORUMHomepageMembership RulesForum TopicsAsk the ExpertTop BoardersUSER PROFILEFORUM TOPICSLatest ThreadsStocksIndexGoldPersonal FinanceJust PostedMF FORUMPOLLSLatest PollsHistorical PollsMarket SentimentsSUPPORTFAQsCode of ConductFeedbackWrite to usVideosVIDEOSHomepageVideos on DemandMarkets with Santo & CJMorning TradeCommodities chat with Manisha GuptaLet`s Talk JobsThe TenantDrive ReportBajar GupshupBits To BillionsPODCASTHomepagePodcast on DemandThe Week on Dalal StreetMarket MinutesMC Special PodcastSimply SavePolicy TalksLIVE TVHindiGujaratiInvest NowExpert Trading GuidancePowered By Trading Advisories, Courses & Webinars by Top Verified Experts.Unlock Your Trading Potential: Trade like Experts with SEBI registered creators, Learn from Courses & Webinars by India\\'s Finest Finance Experts.Invest NowGo Ad-Free BusinessMarketsStocksEconomyCompaniesTrendsIPOOpinionEV Special \\n\\n     HomeNewsBusinessBanks               \\n         HDFC Bank re-appoints Sanmoy Chakrabarti as Chief Risk OfficerChakrabarti has been appointed for a period of five years from December 14, 2023 to December 13, 2028. \\n\\nMoneycontrol News\\n  August 25, 2023 / 06:54 PM IST                                                                                                              \\n HDFC Bank        Trade  Watchlist Portfolio Message Set Alert  \\xa0  \\xa0  livebselivenselive    Volume  Todays L/H       More   ×  HDFC Bank, the country\\'s largest private sector lender, said on August 25 that its board approved the re-appointment of Sanmoy Chakrabarti as the Chief Risk Officer (CRO).According to the bank\\'s filing to the stock exchanges, Chakrabarti has been re-appointed for a period of five years.Story continues below AdvertisementRemove Ad\"He will be the chief risk officer of the bank for a period of five years from December 14, 2023 to December 13, 2028,\"\\xa0HDFC Bank\\xa0said.Chakrabarti, as the CRO of the bank, is responsible for determining the comprehensive risk appetite (covering Credit Risk, Market Risk, Operational Risk, Liquidity Risk, etc.) across various banking segments.Additionally, he \"oversees the Enterprise Risk Management framework in the Bank and guides the formulations of policies and procedures for Internal Capital Adequacy Assessment Process, Stress Testing methodology, and Group Risk Management. He is also responsible for identifying and managing any emerging risk having material impact on Bank’s activities,\" according to the filing.Chakrabarti, who holds M.S. in Quantitative Economics from the Indian Statistical Institute,\\xa0is a member of the Indian Banks’ Association (IBA) Standing Committee on Risk Management and Basel Implementation,\\xa0the filing added.\\n       \\n\\n Moneycontrol News \\n  Tags: #CRO #HDFC #private banks\\n first published: Aug 25, 2023 06:54 pm               Discover the latest business news, Sensex, and Nifty updates. Obtain Personal Finance insights, tax queries, and expert opinions on Moneycontrol or download the Moneycontrol App to stay updated!\\n      \\n \\n\\n\\n\\n\\nAdvertisementRemove Ad\\n     \\nAdvertisementRemove Ad    \\n\\nAdvertisementRemove Ad        \\nAdvertisementRemove Ad AdvertisementRemove Ad \\n\\n \\n  \\n\\n\\n\\n\\nAdvertisementRemove Ad Advisory Alert: It has come to our attention that certain individuals are representing themselves as affiliates of Moneycontrol and soliciting funds on the false promise of assured returns on their investments. We wish to reiterate that Moneycontrol does not solicit funds from investors and neither does it promise any assured returns. In case you are approached by anyone making such claims, please write to us at grievanceofficer@nw18.com or call on 02268882347   Forum Facebook Twitter\\nInstagram Linkedin\\nRSS        Portfolio Markets Watchlist Live TV ShowCurrencies  FREE Credit Score₹100 Cash Reward Commodities Fixed Income Personal Finance   Mutual Fund Pre-Market IPO Global MarketBudget 2024 Gold Rate BSE Sensex ForumMC 30    News  Business Markets Stocks Economy Mutual Funds Personal FinanceElection 2024Elections 2024 in HindiIPL 2024  IPO News Startups      Stocks:\\n A |\\r\\n                           B |\\r\\n                           C |\\r\\n                           D |\\r\\n                           E |\\r\\n                           F |\\r\\n                           G |\\r\\n                           H |\\r\\n                           I |\\r\\n                           J |\\r\\n                           K |\\r\\n                           L |\\r\\n                           M |\\r\\n                           N |\\r\\n                           O |\\r\\n                           P |\\r\\n                           Q |\\r\\n                           R |\\r\\n                           S |\\r\\n                           T |\\r\\n                           U |\\r\\n                           V |\\r\\n                           W |\\r\\n                           X |\\r\\n                           Y |\\r\\n                           Z |\\r\\n                        Others  \\nMutual Funds:\\n A \\r\\n             |                B \\r\\n             |                C \\r\\n             |                D \\r\\n             |                E \\r\\n             |                F \\r\\n             |                G \\r\\n             |                H \\r\\n             |                I \\r\\n             |                J \\r\\n             |                K \\r\\n             |                L \\r\\n             |                M \\r\\n             |                N \\r\\n             |                O \\r\\n             |                P \\r\\n             |                Q \\r\\n             |                R \\r\\n             |                S \\r\\n             |                T \\r\\n             |                U \\r\\n             |                V \\r\\n             |                W \\r\\n             |                X \\r\\n             |                Y \\r\\n             |                Z\\n Visit the App Store to see all our apps:Download from Google PlayDownload from APP StoreDownload from Windows Phone      Tools  Retirement Planning EMI Calculator SIP Calculator SIP Planner   Useful LinksCrypto NewsBank Holidays in IndiaGold Rate TodaySilver Rate TodayTrending NewsStartupsNational NewsMC VideosMC You TubeHouse Purchase IndexBest Portfolio ManagerSmall Savings SchemesBondsTopperLearningClear Study DoubtsEducation Franchisee Opportunity    Specials  Master Your Money Game Changers Investment Watch PowerYourTrade MoneyBhai    Focus SME Step Up  Network 18 SitesNews18FirstpostCNBC TV18News18 HindiCricketnextOverdriveTopper Learning      About us | \\r\\n        Contact Us | \\r\\n        Advisory Alert | Advertise with Us | \\r\\n        \\t\\t        Support |\\r\\n        Disclaimer | \\r\\n        Privacy Policy | Cookie Policy | \\r\\n        Terms & Conditions | \\r\\n        Careers | \\r\\n        Financial Terms (Glossary) | \\r\\n         FAQs | \\r\\n                 Sitemap | \\r\\n        RSS Feed   Copyright © e-Eighteen.com Ltd. All rights reserved. Reproduction of news articles, photos, videos or any other content in whole or in part in any form \\r\\n        or medium without express writtern permission of moneycontrol.com is prohibited.  You got 30 Day’s Trial of Grab it Now Ad-Free Experience Top Articles from Financial Times Actionable Insights MC Research Economic Calendar & Many MoreYou are already a Moneycontrol Pro user.OK Check your Credit Score Now!Access your Detailed Credit Report - absolutely freeClick Here      \\nM Snehanjali ', metadata={'source': 'https://www.moneycontrol.com/news/business/banks/hdfc-bank-re-appoints-sanmoy-chakrabarti-as-chief-risk-officer-11259771.html', 'title': 'HDFC Bank re-appoints Sanmoy Chakrabarti as Chief Risk Officer', 'description': 'Chakrabarti has been appointed for a period of five years from December 14, 2023 to December 13, 2028.', 'language': 'en'}),\n",
       " Document(page_content=' Market corrects post RBI MPC outcome| Bet on these top 10 rate-sensitive stocks           \\n\\n  \\n\\n      \\n\\n   \\n\\n  EnglishHindiGujaratiSpecialsSearch Quotes, News, Mutual Fund NAVsMoneycontrol Trending StockInfosys\\xa0INE009A01021, INFY, 500209State Bank of India\\xa0INE062A01020, SBIN, 500112Yes Bank\\xa0INE528G01027, YESBANK, 532648Bank Nifty\\xa0Nifty 500 \\xa0QuotesMutual FundsCommoditiesFutures & OptionsCurrencyNewsCryptocurrencyForumNoticesVideosGlossaryAll  Hello, Login Hello, LoginLog-inor Sign-UpMy AccountMy Profile My PortfolioMy WatchlistFREE Credit Score₹100 Cash RewardMy AlertsMy MessagesPrice AlertsMy Profile My PROMy PortfolioMy WatchlistFREE Credit Score₹100 Cash RewardMy AlertsMy MessagesPrice AlertsLogoutChat with UsDownload AppFollow us on:PremiumMy Alerts->->MC_ENG_DESKTOP/MC_ENG_NEWS/MC_ENG_MARKETS_AS/MC_ENG_ROS_NWS_MKTS_AS_ATF_728Go PRO @₹99  PROAdvertisementRemove AdElections 2024MarketsHOMEINDIAN INDICESSTOCK ACTIONAll StatsTop GainersTop LosersOnly BuyersOnly Sellers52 Week High52 Week LowPrice ShockersVolume ShockersMost Active StocksGLOBAL MARKETSUS MARKETSBIG SHARK PORTFOLIOSSTOCK SCANNERECONOMIC INDICATORSECONOMIC CALENDARMARKET ACTIONDashboardF&OFII & DII ActivityCorporate ActionEARNINGSCOMMODITYPRE MARKETRESEARCHAdviceBroker ResearchTechnicalsCURRENCYCRYPTOCURRENCYBONDSTECHNICAL TRENDSIPOWEBINARINTERVIEW SERIESOTHERSCryptocurrency NewsToolsNewsLATEST NEWSBudget 2024Elections 2024IPL 2024BUSINESSEconomyCompaniesMutual FundsPersonal FinanceIPOStartupsReal EstateSMENATION & WORLDIndiaWorldPoliticsMARKETSStocksTechnical AnalysisEquity ResearchCommodityCurrencyGold RateSilver RateAQISPECIALTrendsLatest NewsOpinionExplainersMC BuzzMC FeaturesMC LearnTECHNOLOGYPersonal TechAutoFintechMEDIAPodcastPhotosInfographicsVideosWeb StoriesCRYPTOCURRENCYOTHERSEntertainmentSportsLifestyleHealth and FitnessEducationJobsScienceAstroTravelIPL 2024TechPortfolioWatchlistCommoditiesMutual FundsEXPLOREHomeFind FundTop Ranked FundsPerformance TrackerSIP Performance TrackerETF PerformanceNFOTop Performing CategoriesLearnTOOLSReturns CalculatorLumpsum SIP BalancerDelay Cost CalculatorSIP ReturnMF FORUMTRACKYour MF InvestmentMF PricesMC 30Personal FinanceEXPLOREHomeInvestingInsuranceBankingFinancial PlanningPropertyToolsVideoAsk ExpertExplainerIncome Tax Filing GuideNPSFIXED DEPOSITFixed Deposit ComparisonFixed Deposit Interest CalculatorCorporate DepositsTAXIncome tax Filing GuideIncome Tax CalculatorEmergency Fund CalculatorLOANS & CREDIT CARDSHomePersonal Loan\\t\\t\\t\\t\\t\\t\\t\\t\\t\\t\\t\\t\\xa0Car Loan CalculatorHome Loan CalculatorEducation Loan CalculatorCredit Card Debit Payoff CalculatorTOOLSProvident Fund CalculatorAssets Allocation PlanningDebt Reduction PlannerDebt Evaluation CalculatorCurrent Expense CalculatorFREE CREDIT SCORE₹100 Cash RewardREAL ESTATE : TRENDS & ANALYTICSMC 30MONEYCONTROL - SECURENOW HEALTH INSURANCE RATINGSGOLD PRICE TODAYUpcoming Chat | Previous TranscriptsAll Schedule | Previous TranscriptForumEXPLORE FORUMHomepageMembership RulesForum TopicsAsk the ExpertTop BoardersUSER PROFILEFORUM TOPICSLatest ThreadsStocksIndexGoldPersonal FinanceJust PostedMF FORUMPOLLSLatest PollsHistorical PollsMarket SentimentsSUPPORTFAQsCode of ConductFeedbackWrite to usVideosVIDEOSHomepageVideos on DemandMarkets with Santo & CJMorning TradeCommodities chat with Manisha GuptaLet`s Talk JobsThe TenantDrive ReportBajar GupshupBits To BillionsPODCASTHomepagePodcast on DemandThe Week on Dalal StreetMarket MinutesMC Special PodcastSimply SavePolicy TalksLIVE TVHindiGujaratiInvest NowExpert Trading GuidancePowered By Trading Advisories, Courses & Webinars by Top Verified Experts.Unlock Your Trading Potential: Trade like Experts with SEBI registered creators, Learn from Courses & Webinars by India\\'s Finest Finance Experts.Invest NowGo Ad-Free BusinessMarketsStocksEconomyCompaniesTrendsIPOOpinionEV Special \\n\\n     HomeNewsBusinessMarkets               \\n         Market corrects post RBI MPC outcome| Bet on these top 10 rate-sensitive stocksExperts are not worried due to this market fall, in fact, it gives an opportunity to pick quality stocks including rate sensitive stocks on dips. \\n                                                   \\n                        \\n                     \\n                                                                                                               Sunil Shankar Matkar\\n                                                      \\n         \\n           August 10, 2023 / 01:45 PM IST                                                                                                              \\n RBI holds repo rate at 6.5 percent, raises full year inflation forecast        Trade  Watchlist Portfolio Message Set Alert  \\xa0  \\xa0  livebselivenselive    Volume  Todays L/H       More   ×  The Monetary Policy Committee (MPC) unanimously decided to hold the repo rate at 6.5 percent, but raised the full-year inflation forecast to 5.4 percent from 5.1 percent earlier given the supply disruptions due to adverse weather conditions and assuming a normal monsoon, which was largely on expected lines.\"The MPC also decided to remain focused on withdrawal of accommodation to ensure that inflation progressively aligns with the target, while supporting growth,\" the Reserve Bank of India said in its release.Story continues below AdvertisementRemove AdThe MPC has also maintained its real GDP growth forecast for current financial year 2023-24 at 6.5 percent considering the hope for better household consumption, and renewal of the capex cycle going ahead, amid global headwinds.\"There were no surprises in the policy and unlike market expectations, there was no hawkish bend to the commentary,\" Indranil Pan, Chief Economist at YES Bank said.However, he further said as any good central bank would do, the RBI signals that it would continue to look ahead and factor in its anticipated inflation trajectory into future monetary policy decisions, and opined that excessive liquidity can pose risks to price stability. Related stories Why SBI MF is betting big on the automotive segmentTechnical View: Nifty climbs above all key moving averages, likely inching towards 22,600Taking Stock | Sensex surges 676 pts, Nifty above 22,400; M&M, Bharti Airtel, Tech Mahindra top ... Meanwhile, the RBI has attempted to neutralize the liquidity impact of the Rs 2000/- notes into the banking system, and has hiked incremental CRR (cash reserve ratio) to 10 percent till September 2023 to address surplus liquidity generated by various factors.The market has reacted negatively to the rising inflation forecast and incremental CRR for banks announced by the RBI. Hence the Bank Nifty fell 240 points to 44,640, while the BSE Sensex fell 246 points to 65,750, and the Nifty50 dropped 69 points to 19,564, at 12:49 hours IST.But experts are not worried due to this fall, in fact, it gives an opportunity to pick quality stocks including rate sensitive stocks on dips. They still feel the market is in a consolidation phase and can give decisive breakout over crucial 19,650-19,700 levels soon, as long as it holds the 19,500-19,300 support. Overall it traded within the previous day\\'s range.Story continues below AdvertisementRemove Ad\"We believe that a dip in the market is a much needed. The RBI move may pave the way for healthy correction. If Bank Nifty fails to hold above the 44,500 mark then there is a chance of a fall till 43,500. This is a major support level for Bank Nifty where investors can get it to good quality banking stocks,\" Apurva Sheth, head of market perspectives & research at SAMCO Securities said.On the Nifty50, Osho Krishan, senior. analyst, technical & derivative research at Angel One feels the bearish gap of 19,678-19,705 withholds the immediate hurdle and a decisive breach would attract new longs in the index for the next potential resistance around 19,800-19,850 in the comparable period. While on the downside, the pivotal support of 19,500 proved its mettle and is expected to cushion any blip in the shortcoming, he said.Follow LIVE Updates of the RBI Monetary Policy decision hereWe have collated a list of rate-sensitive stocks that may be a good buy at current levels or on dips from a two to three weeks’ perspective. Returns are calculated based on August 9 closing price:Expert: Foram Chheda, CMT, technical research analyst and founder of ChartAnalytics.co.inHDFC Bank: Buy | LTP: Rs 1,647 | Stop-Loss: Rs 1,612 | Target: Rs 1,720 | Return: 4.4 percentAfter marking a high on a closing basis in July this year, HDFC Bank\\'s stock price saw a corrective decline and halted at Rs 1,579-1,580 levels which was in close proximity to the 200-day MA (moving average) marking it as a strong support level.The price movement after that led to the development of the symmetrical triangle. Currently, the stock is very close to multiple moving average support level at 50-day, 100-day and 200-day MA which is expected to act as a strong support level and the price is likely to move towards the previous highs of Rs 1,720 levels.Thus, one should continue to hold the stock with stop-loss of Rs 1,612 and can expect a potential up move towards Rs 1,720 levels.Manappuram Finance: Buy | LTP: Rs 142.40 | Stop-Loss: Rs 131 | Target: Rs 155 | Return: 9 percentSince February 2022, Manappuram Finance has been in a consolidation phase. After reaching a low point at Rs 81 levels in June 2022, the stock gradually climbed. During its ascent, it surpassed the 50-day, 100-day, and 200-day moving averages. However, its upward momentum slowed around Rs 133-134 levels, acting as a resistance, and a corrective decline followed. This decline found support near the 200-day moving average. A rebound in the price followed this price action.In the past month, the price tested the resistance at Rs 131-133 levels multiple times. Finally, a breakout occurred which took the price above the horizontal trendline resistance of Rs 133, creating fresh buying opportunities.Presently, one can hold the stock, maintain a stop-loss near Rs 131, while expecting an upward move towards Rs 155.L&T Finance Holdings: Buy | LTP: Rs 126.2 | Stop-Loss: Rs 119 | Target: Rs 138-140 | Return: 11 percentAfter forming a bottom at Rs 78 levels in March this year, the stock price has witnessed a rebound. Despite a temporary violation, the price defended the 200-day MA as its support by staging a rebound and crossing above it. This reinforced the levels of 200-DMA as a major support for the stock.The price gradually crossed above multiple moving averages of 50-day MA as well as 100-day MA which concluded the trend of the stock to be bullish. This up move in price halted near Rs 140 levels last month and retraced nearly 23.6 percent as per the Fibonacci retracement levels getting very close to the 50-day MA in the process.Thus, the formation of higher tops and higher bottoms, Fibonacci retracement of 23.6 percent, and 50-day MA support level can trigger a rebound in price which could result in a potential continuation of the uptrend. One can continue holding the stock with a stop-loss of Rs 119 and look for a potential up move close to Rs 138-140 levels.Expert: Vidnyan Sawant, AVP - technical research at GEPL CapitalICICI Bank: Buy | LTP: Rs 972.7 | Stop-Loss: Rs 940 | Target: Rs 1,040 | Return: 7 percentICICI Bank\\'s stock is currently trading around its all-time high levels and has shown a pattern of forming higher tops and higher bottoms on the monthly charts. This pattern suggests a strong positive sentiment for the stock over the long term. Recently, the stock has found support around the previous swing high, which has now become a new support level due to the concept of change in polarity (CIP). This indicates a bullish signal for the stock, with this support level forming around Rs 960.Furthermore, the stock has been consistently trading above its important moving averages, including the 50-day, 100-day, and 200-day moving averages. This alignment of moving averages in a positive direction indicates the bullish strength of the stock\\'s trend.The relative strength index (RSI), a momentum indicator, has been indicating positive momentum on various time frames such as daily, weekly, and monthly. It has consistently remained above the 50 mark, reinforcing the presence of a favorable upward momentum in the stock\\'s price.Looking ahead, there is potential for the upward movement of the stock to continue, possibly targeting Rs 1,040 levels. It\\'s recommended to set a stop-loss at Rs 940, which should be triggered on a closing basis.Canara Bank: Buy | LTP: Rs 336.10 | Stop-Loss: Rs 320 | Target: Rs 360 | Return: 7 percentCanara Bank stock has rebounded positively from the critical support level of Rs 325, which shows a change in polarity at the same level. A notable Cup & Handle pattern breakout in early July 2023 suggested the onset of a bullish trend.This upward trend is further reinforced as the stock prices consistently take support from the 12 & 26-day exponential moving averages (EMA). Additionally, the RSI displays a positive hidden divergence, indicating strong positive momentum in the stock.Going ahead, we can expect the up move to continue till Rs 360 levels, where the stop-loss must be Rs 320 on closing basis.PNB Housing Finance: Buy | LTP: Rs 634.55 | Stop-Loss: Rs 600 | Target: Rs 700 | Return: 10 percentPNB Housing stock has made an impressive rise from its lower levels around Rs 380, evident from the rising steepness of the trend lines. The stock consistently forms higher highs and higher lows, indicating a sustained upward momentum.This bullish sentiment is further validated as, during every decline, the stock rebounds from its variable support levels defined by the 12-day and 26-day EMAs.Moreover, the RSI exhibits a Positive Hidden Divergence, underscoring the prevailing positive momentum. Going ahead we can expect the up move to continue till Rs 700 level where the stop-loss must be Rs 600 on closing basis.RBL Bank: Buy | LTP: Rs 220.95 | Stop-Loss: Rs 205 | Target: Rs 270 | Return: 22 percentRBL Bank is currently trading close to its 52-week high, maintaining a higher top higher bottom pattern on the monthly charts, suggesting a positive long-term trend. Additionally, on the weekly chart, the stock has broken out of an Inverted Head & Shoulder pattern and is sustaining above that level, confirming a robust positive sentiment in the medium term. In the short term, the stock seems to be finding support around Rs 205 – 200 levels.Moreover, the stock has consistently traded above key moving averages, including the 50-day, 100-day, and 200-day moving averages. This alignment of moving averages in a positive direction further underscores the bullish trajectory of the stock.The RSI, a momentum indicator, has consistently indicated positive momentum across various time frames such as daily, weekly, and monthly. The RSI has consistently maintained levels above 55, highlighting the presence of strong upward momentum in the stock\\'s price.Looking forward, there is potential for the stock\\'s upward movement to persist, with a potential target around Rs 270 levels. To manage risk, it is advisable to implement a stop-loss strategy at Rs 205, which should be activated based on closing prices.Expert: Mitesh Karwa, research analyst at Bonanza PortfolioAshok Leyland: Buy | LTP: Rs 187.55 | Stop-Loss: Rs 178 | Target: Rs 207 | Return: 10 percentA significant breakout of a Cup and Handle pattern in Ashok Leyland has been observed. This pattern often indicates a potential bullish continuation of the existing trend. The good volume during the breakout suggests increased buying interest at the current price levels, which further reinforces the positive outlook.Moreover, the price is trading above the major EMA, indicating a sustained uptrend. This alignment with the EMAs adds more confidence to the bullish scenario. Simultaneously, the technical indicator Ichimoku Cloud suggests that the price is trading above the conversion and base line which shows a Positive trend in the counter.Hence, based on the above technical structure one can initiate a long position in Ashok Leyland at Rs 187.55 or buy on a dip till Rs 187 levels can be used as buying opportunity for the upside target of Rs 207. However, the bullish view will be negated if Ashok Leyland closes below the support level of Rs 178.Hero MotoCorp: Buy | LTP: Rs 3,059.7 | Stop-Loss: Rs 2,850 | Target: Rs 3,500 | Return: 14 percentIn the weekly timeframe, Hero price retraced 0.618 percent from its high after an upward move. The stock found support at the EMA and rebounded, approaching the previous high. This is accompanied by a pattern of higher highs and higher lows, indicating a bullish trend.Additionally, the price remains above the 100-period EMA and the Ichimoku Indicator, supporting the uptrend. The RSI momentum indicator is also trending, with new highs, confirming the trend.In light of these technical factors, a long position could be considered at Rs 3,059 or a potential decline to Rs 3,050, with a target price of Rs 3,500. However, this bullish view would be invalidated if the stock closes below the support level of Rs 2,850.Bank of Maharashtra: Buy | LTP: Rs 37.3 | Stop-Loss: Rs 30 | Target: Rs 50 | Return: 34 percentBank of Maharashtra has seen breaking out of an Inverse Head and Shoulder pattern on the weekly timeframe with a bullish candlestick pattern and closing above the highs of last six years which indicates strength. The stock is also trading above all its important EMAs on the daily timeframe which acts as a confluence.The supertrend indicator is also indicating a bullish continuation which supports the bullish view. Momentum oscillator RSI (14) is at around 75 on the daily time frame indicating strength by sustaining above 50 and the ichimoku cloud is also suggesting a bullish move as the price is trading above the conversion line, base line and cloud.Observation of the above factors indicates that a bullish move in Bank of Maharashtra is possible for target upto Rs 50. One can initiate a buy trade in between the range of Rs 37-37.3, with stop-loss of Rs 30 on daily closing basis.Disclaimer: The views and investment tips expressed by investment experts on Moneycontrol.com are their own and not those of the website or its management. Moneycontrol.com advises users to check with certified experts before taking any investment decisions. \\n\\n Sunil Shankar Matkar \\n  Tags: #Market Edge #Nifty #RBI monetary policy #Sensex #Stocks Views\\n first published: Aug 10, 2023 01:38 pm               Discover the latest business news, Sensex, and Nifty updates. Obtain Personal Finance insights, tax queries, and expert opinions on Moneycontrol or download the Moneycontrol App to stay updated!\\n      \\n \\n\\n\\n\\n\\nAdvertisementRemove Ad\\n     \\n  \\n\\n       \\n     Trending news          \\'Indians are CEOs of top firms, but in Karachi…\\': Pak MP’s speech on Chandrayaan-3, illiteracy is viral     Narayana Murthy shares the one book every child in India should read   Indian student at Stanford says Tim Cook called Apple iPad pro ad \\'major fumble\\', then clarifies it was a \\'joke\\'   Bengaluru man loses Rs 3 lakh while trying to book RCB-CSK IPL match tickets online: reports   Anand Mahindra reacts to Vineet Nayyar\\'s death: \\'You will always live on in our hearts\\'     \\n\\n \\n  \\n\\n\\n\\n\\nAdvisory Alert: It has come to our attention that certain individuals are representing themselves as affiliates of Moneycontrol and soliciting funds on the false promise of assured returns on their investments. We wish to reiterate that Moneycontrol does not solicit funds from investors and neither does it promise any assured returns. In case you are approached by anyone making such claims, please write to us at grievanceofficer@nw18.com or call on 02268882347   Forum Facebook Twitter\\nInstagram Linkedin\\nRSS        Portfolio Markets Watchlist Live TV ShowCurrencies  FREE Credit Score₹100 Cash Reward Commodities Fixed Income Personal Finance   Mutual Fund Pre-Market IPO Global MarketBudget 2024 Gold Rate BSE Sensex ForumMC 30    News  Business Markets Stocks Economy Mutual Funds Personal FinanceElection 2024Elections 2024 in HindiIPL 2024  IPO News Startups      Stocks:\\n A |\\r\\n                           B |\\r\\n                           C |\\r\\n                           D |\\r\\n                           E |\\r\\n                           F |\\r\\n                           G |\\r\\n                           H |\\r\\n                           I |\\r\\n                           J |\\r\\n                           K |\\r\\n                           L |\\r\\n                           M |\\r\\n                           N |\\r\\n                           O |\\r\\n                           P |\\r\\n                           Q |\\r\\n                           R |\\r\\n                           S |\\r\\n                           T |\\r\\n                           U |\\r\\n                           V |\\r\\n                           W |\\r\\n                           X |\\r\\n                           Y |\\r\\n                           Z |\\r\\n                        Others  \\nMutual Funds:\\n A \\r\\n             |                B \\r\\n             |                C \\r\\n             |                D \\r\\n             |                E \\r\\n             |                F \\r\\n             |                G \\r\\n             |                H \\r\\n             |                I \\r\\n             |                J \\r\\n             |                K \\r\\n             |                L \\r\\n             |                M \\r\\n             |                N \\r\\n             |                O \\r\\n             |                P \\r\\n             |                Q \\r\\n             |                R \\r\\n             |                S \\r\\n             |                T \\r\\n             |                U \\r\\n             |                V \\r\\n             |                W \\r\\n             |                X \\r\\n             |                Y \\r\\n             |                Z\\n Visit the App Store to see all our apps:Download from Google PlayDownload from APP StoreDownload from Windows Phone      Tools  Retirement Planning EMI Calculator SIP Calculator SIP Planner   Useful LinksCrypto NewsBank Holidays in IndiaGold Rate TodaySilver Rate TodayTrending NewsStartupsNational NewsMC VideosMC You TubeHouse Purchase IndexBest Portfolio ManagerSmall Savings SchemesBondsTopperLearningClear Study DoubtsEducation Franchisee Opportunity    Specials  Master Your Money Game Changers Investment Watch PowerYourTrade MoneyBhai    Focus SME Step Up  Network 18 SitesNews18FirstpostCNBC TV18News18 HindiCricketnextOverdriveTopper Learning      About us | \\r\\n        Contact Us | \\r\\n        Advisory Alert | Advertise with Us | \\r\\n        \\t\\t        Support |\\r\\n        Disclaimer | \\r\\n        Privacy Policy | Cookie Policy | \\r\\n        Terms & Conditions | \\r\\n        Careers | \\r\\n        Financial Terms (Glossary) | \\r\\n         FAQs | \\r\\n                 Sitemap | \\r\\n        RSS Feed   Copyright © e-Eighteen.com Ltd. All rights reserved. Reproduction of news articles, photos, videos or any other content in whole or in part in any form \\r\\n        or medium without express writtern permission of moneycontrol.com is prohibited.  You got 30 Day’s Trial of Grab it Now Ad-Free Experience Top Articles from Financial Times Actionable Insights MC Research Economic Calendar & Many MoreYou are already a Moneycontrol Pro user.OK Check your Credit Score Now!Access your Detailed Credit Report - absolutely freeClick Here      \\nSunil Matkar ', metadata={'source': 'https://www.moneycontrol.com/news/business/markets/market-corrects-post-rbi-ups-inflation-forecast-icrr-bet-on-these-top-10-rate-sensitive-stocks-ideas-11142611.html', 'title': 'Market corrects post RBI MPC outcome| Bet on these top 10 rate-sensitive stocks', 'description': 'Experts are not worried due to this market fall, in fact, it gives an opportunity to pick quality stocks including rate sensitive stocks on dips.', 'language': 'en'})]"
      ]
     },
     "execution_count": 10,
     "metadata": {},
     "output_type": "execute_result"
    }
   ],
   "source": [
    "data"
   ]
  },
  {
   "cell_type": "code",
   "execution_count": 11,
   "metadata": {},
   "outputs": [
    {
     "data": {
      "text/plain": [
       "' HDFC Bank re-appoints Sanmoy Chakrabarti as Chief Risk Officer           \\n\\n  \\n\\n      \\n\\n   \\n\\n  Engli'"
      ]
     },
     "execution_count": 11,
     "metadata": {},
     "output_type": "execute_result"
    }
   ],
   "source": [
    "data[0].page_content[0:100]"
   ]
  },
  {
   "cell_type": "code",
   "execution_count": 12,
   "metadata": {},
   "outputs": [
    {
     "data": {
      "text/plain": [
       "{'source': 'https://www.moneycontrol.com/news/business/banks/hdfc-bank-re-appoints-sanmoy-chakrabarti-as-chief-risk-officer-11259771.html',\n",
       " 'title': 'HDFC Bank re-appoints Sanmoy Chakrabarti as Chief Risk Officer',\n",
       " 'description': 'Chakrabarti has been appointed for a period of five years from December 14, 2023 to December 13, 2028.',\n",
       " 'language': 'en'}"
      ]
     },
     "execution_count": 12,
     "metadata": {},
     "output_type": "execute_result"
    }
   ],
   "source": [
    "data[0].metadata"
   ]
  },
  {
   "cell_type": "markdown",
   "metadata": {},
   "source": [
    "# Text Splitters\n",
    "Why do we need text splitters in first place?\n",
    "\n",
    "LLM's have token limits. Hence we need to split the text which can be large into small chunks so that each chunk size is under the token limit. There are various text splitter classes in langchain that allows us to do this."
   ]
  },
  {
   "cell_type": "code",
   "execution_count": 14,
   "metadata": {},
   "outputs": [],
   "source": [
    "text = \"\"\"Interstellar is a 2014 epic science fiction film co-written, directed, and produced by Christopher Nolan. \n",
    "It stars Matthew McConaughey, Anne Hathaway, Jessica Chastain, Bill Irwin, Ellen Burstyn, Matt Damon, and Michael Caine. \n",
    "Set in a dystopian future where humanity is embroiled in a catastrophic blight and famine, the film follows a group of astronauts who travel through a wormhole near Saturn in search of a new home for humankind.\n",
    "\n",
    "Brothers Christopher and Jonathan Nolan wrote the screenplay, which had its origins in a script Jonathan developed in 2007 and was originally set to be directed by Steven Spielberg. \n",
    "Kip Thorne, a Caltech theoretical physicist and 2017 Nobel laureate in Physics,[4] was an executive producer, acted as a scientific consultant, and wrote a tie-in book, The Science of Interstellar. \n",
    "Cinematographer Hoyte van Hoytema shot it on 35 mm movie film in the Panavision anamorphic format and IMAX 70 mm. Principal photography began in late 2013 and took place in Alberta, Iceland, and Los Angeles. \n",
    "Interstellar uses extensive practical and miniature effects, and the company Double Negative created additional digital effects.\n",
    "\n",
    "Interstellar premiered in Los Angeles on October 26, 2014. In the United States, it was first released on film stock, expanding to venues using digital projectors. The film received generally positive reviews from critics and grossed over $677 million worldwide ($715 million after subsequent re-releases), making it the tenth-highest-grossing film of 2014. \n",
    "It has been praised by astronomers for its scientific accuracy and portrayal of theoretical astrophysics.[5][6][7] Interstellar was nominated for five awards at the 87th Academy Awards, winning Best Visual Effects, and received numerous other accolades.\"\"\""
   ]
  },
  {
   "cell_type": "code",
   "execution_count": 15,
   "metadata": {},
   "outputs": [
    {
     "data": {
      "text/plain": [
       "'Interstellar is a 2014 epic science fiction film co-written, directed, and produced by Christopher N'"
      ]
     },
     "execution_count": 15,
     "metadata": {},
     "output_type": "execute_result"
    }
   ],
   "source": [
    "# Say LLM token limit is 100, in that case we can do simple thing such as this\n",
    "\n",
    "text[0:100]"
   ]
  },
  {
   "cell_type": "code",
   "execution_count": 17,
   "metadata": {},
   "outputs": [
    {
     "data": {
      "text/plain": [
       "264"
      ]
     },
     "execution_count": 17,
     "metadata": {},
     "output_type": "execute_result"
    }
   ],
   "source": [
    "# Well but we want complete words and want to do this for entire text, may be we can use Python's split funciton\n",
    "\n",
    "words = text.split(\" \")\n",
    "len(words)"
   ]
  },
  {
   "cell_type": "code",
   "execution_count": 18,
   "metadata": {},
   "outputs": [],
   "source": [
    "chunks = []\n",
    "\n",
    "s = \"\"\n",
    "for word in words:\n",
    "    s += word + \" \"\n",
    "    if len(s)>200:\n",
    "        chunks.append(s)\n",
    "        s = \"\"\n",
    "        \n",
    "chunks.append(s)"
   ]
  },
  {
   "cell_type": "code",
   "execution_count": 19,
   "metadata": {},
   "outputs": [
    {
     "data": {
      "text/plain": [
       "['Interstellar is a 2014 epic science fiction film co-written, directed, and produced by Christopher Nolan. \\nIt stars Matthew McConaughey, Anne Hathaway, Jessica Chastain, Bill Irwin, Ellen Burstyn, Matt ',\n",
       " 'Damon, and Michael Caine. \\nSet in a dystopian future where humanity is embroiled in a catastrophic blight and famine, the film follows a group of astronauts who travel through a wormhole near Saturn in ']"
      ]
     },
     "execution_count": 19,
     "metadata": {},
     "output_type": "execute_result"
    }
   ],
   "source": [
    "chunks[:2]"
   ]
  },
  {
   "cell_type": "markdown",
   "metadata": {},
   "source": [
    "Splitting data into chunks can be done in native python but it is a tidious process. Also if necessary, you may need to experiment with various delimiters in an iterative manner to ensure that each chunk does not exceed the token length limit of the respective LLM.\n",
    "\n",
    "Langchain provides a better way through text splitter classes.\n",
    "\n",
    "Using Text Splitter Classes from Langchain\n",
    "CharacterTextSplitter"
   ]
  },
  {
   "cell_type": "code",
   "execution_count": 20,
   "metadata": {},
   "outputs": [],
   "source": [
    "from langchain.text_splitter import CharacterTextSplitter\n",
    "\n",
    "splitter = CharacterTextSplitter(\n",
    "    separator = \"\\n\",\n",
    "    chunk_size=200,\n",
    "    chunk_overlap=0\n",
    ")"
   ]
  },
  {
   "cell_type": "code",
   "execution_count": 22,
   "metadata": {},
   "outputs": [
    {
     "name": "stderr",
     "output_type": "stream",
     "text": [
      "Created a chunk of size 210, which is longer than the specified 200\n",
      "Created a chunk of size 208, which is longer than the specified 200\n",
      "Created a chunk of size 358, which is longer than the specified 200\n"
     ]
    },
    {
     "data": {
      "text/plain": [
       "9"
      ]
     },
     "execution_count": 22,
     "metadata": {},
     "output_type": "execute_result"
    }
   ],
   "source": [
    "chunks = splitter.split_text(text)\n",
    "len(chunks)"
   ]
  },
  {
   "cell_type": "code",
   "execution_count": 23,
   "metadata": {},
   "outputs": [
    {
     "name": "stdout",
     "output_type": "stream",
     "text": [
      "105\n",
      "120\n",
      "210\n",
      "181\n",
      "197\n",
      "207\n",
      "128\n",
      "357\n",
      "253\n"
     ]
    }
   ],
   "source": [
    "for chunk in chunks:\n",
    "    print(len(chunk))"
   ]
  },
  {
   "cell_type": "markdown",
   "metadata": {},
   "source": [
    "As you can see, all though we gave 200 as a chunk size since the split was based on \\n, it ended up creating chunks that are bigger than size 200.\n",
    "\n",
    "Another class from Langchain can be used to recursively split the text based on a list of separators. This class is RecursiveTextSplitter. Let's see how it works\n",
    "\n",
    "RecursiveTextSplitter\n",
    "\n"
   ]
  },
  {
   "cell_type": "code",
   "execution_count": 24,
   "metadata": {},
   "outputs": [
    {
     "data": {
      "text/plain": [
       "'Interstellar is a 2014 epic science fiction film co-written, directed, and produced by Christopher Nolan. \\nIt stars Matthew McConaughey, Anne Hathaway, Jessica Chastain, Bill Irwin, Ellen Burstyn, Matt Damon, and Michael Caine. \\nSet in a dystopian future where humanity is embroiled in a catastrophic blight and famine, the film follows a group of astronauts who travel through a wormhole near Saturn in search of a new home for humankind.\\n\\nBrothers Christopher and Jonathan Nolan wrote the screenplay, which had its origins in a script Jonathan developed in 2007 and was originally set to be directed by Steven Spielberg. \\nKip Thorne, a Caltech theoretical physicist and 2017 Nobel laureate in Physics,[4] was an executive producer, acted as a scientific consultant, and wrote a tie-in book, The Science of Interstellar. \\nCinematographer Hoyte van Hoytema shot it on 35 mm movie film in the Panavision anamorphic format and IMAX 70 mm. Principal photography began in late 2013 and took place in Alberta, Iceland, and Los Angeles. \\nInterstellar uses extensive practical and miniature effects, and the company Double Negative created additional digital effects.\\n\\nInterstellar premiered in Los Angeles on October 26, 2014. In the United States, it was first released on film stock, expanding to venues using digital projectors. The film received generally positive reviews from critics and grossed over $677 million worldwide ($715 million after subsequent re-releases), making it the tenth-highest-grossing film of 2014. \\nIt has been praised by astronomers for its scientific accuracy and portrayal of theoretical astrophysics.[5][6][7] Interstellar was nominated for five awards at the 87th Academy Awards, winning Best Visual Effects, and received numerous other accolades.'"
      ]
     },
     "execution_count": 24,
     "metadata": {},
     "output_type": "execute_result"
    }
   ],
   "source": [
    "text\n"
   ]
  },
  {
   "cell_type": "code",
   "execution_count": 25,
   "metadata": {},
   "outputs": [],
   "source": [
    "from langchain.text_splitter import RecursiveCharacterTextSplitter\n",
    "\n",
    "r_splitter = RecursiveCharacterTextSplitter(\n",
    "    separators = [\"\\n\\n\", \"\\n\", \" \"],  # List of separators based on requirement (defaults to [\"\\n\\n\", \"\\n\", \" \"])\n",
    "    chunk_size = 200,  # size of each chunk created\n",
    "    chunk_overlap  = 0,  # size of  overlap between chunks in order to maintain the context\n",
    "    length_function = len  # Function to calculate size, currently we are using \"len\" which denotes length of string however you can pass any token counter)\n",
    ")"
   ]
  },
  {
   "cell_type": "code",
   "execution_count": 26,
   "metadata": {},
   "outputs": [
    {
     "name": "stdout",
     "output_type": "stream",
     "text": [
      "105\n",
      "120\n",
      "199\n",
      "10\n",
      "181\n",
      "197\n",
      "198\n",
      "8\n",
      "128\n",
      "191\n",
      "165\n",
      "198\n",
      "54\n"
     ]
    }
   ],
   "source": [
    "chunks = r_splitter.split_text(text)\n",
    "\n",
    "for chunk in chunks:\n",
    "    print(len(chunk))"
   ]
  },
  {
   "cell_type": "code",
   "execution_count": 27,
   "metadata": {},
   "outputs": [
    {
     "data": {
      "text/plain": [
       "'Interstellar is a 2014 epic science fiction film co-written, directed, and produced by Christopher Nolan. \\nIt stars Matthew McConaughey, Anne Hathaway, Jessica Chastain, Bill Irwin, Ellen Burstyn, Matt Damon, and Michael Caine. \\nSet in a dystopian future where humanity is embroiled in a catastrophic blight and famine, the film follows a group of astronauts who travel through a wormhole near Saturn in search of a new home for humankind.'"
      ]
     },
     "execution_count": 27,
     "metadata": {},
     "output_type": "execute_result"
    }
   ],
   "source": [
    "first_split = text.split(\"\\n\\n\")[0]\n",
    "first_split"
   ]
  },
  {
   "cell_type": "code",
   "execution_count": 28,
   "metadata": {},
   "outputs": [
    {
     "data": {
      "text/plain": [
       "439"
      ]
     },
     "execution_count": 28,
     "metadata": {},
     "output_type": "execute_result"
    }
   ],
   "source": [
    "len(first_split)"
   ]
  },
  {
   "cell_type": "code",
   "execution_count": null,
   "metadata": {},
   "outputs": [],
   "source": []
  }
 ],
 "metadata": {
  "kernelspec": {
   "display_name": "Python 3",
   "language": "python",
   "name": "python3"
  },
  "language_info": {
   "codemirror_mode": {
    "name": "ipython",
    "version": 3
   },
   "file_extension": ".py",
   "mimetype": "text/x-python",
   "name": "python",
   "nbconvert_exporter": "python",
   "pygments_lexer": "ipython3",
   "version": "3.12.1"
  }
 },
 "nbformat": 4,
 "nbformat_minor": 2
}
